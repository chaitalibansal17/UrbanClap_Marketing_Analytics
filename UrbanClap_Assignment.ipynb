{
 "cells": [
  {
   "cell_type": "markdown",
   "metadata": {},
   "source": [
    "# URBANCLAP MARKETING ANALYTICS ASSIGNMENT"
   ]
  },
  {
   "cell_type": "markdown",
   "metadata": {},
   "source": [
    "## Submitted by- Chaitali Bansal"
   ]
  },
  {
   "cell_type": "markdown",
   "metadata": {},
   "source": [
    "*Data field for variable source has been converted as A=1, B=2, C=3, D=4 because of some problem with the system*"
   ]
  },
  {
   "cell_type": "markdown",
   "metadata": {},
   "source": [
    "### Data Preperation"
   ]
  },
  {
   "cell_type": "code",
   "execution_count": 1,
   "metadata": {
    "collapsed": true
   },
   "outputs": [],
   "source": [
    "import numpy as np\n",
    "import pandas as pd\n",
    "import matplotlib.pyplot as plt\n",
    "from datetime import datetime,timedelta\n",
    "from __future__ import division\n",
    "from sklearn.linear_model import LogisticRegression"
   ]
  },
  {
   "cell_type": "code",
   "execution_count": 2,
   "metadata": {
    "collapsed": true
   },
   "outputs": [],
   "source": [
    "%matplotlib inline"
   ]
  },
  {
   "cell_type": "code",
   "execution_count": 3,
   "metadata": {
    "collapsed": false
   },
   "outputs": [],
   "source": [
    "df=pd.read_csv(\"Urbanclap.csv\",header=0)"
   ]
  },
  {
   "cell_type": "code",
   "execution_count": 4,
   "metadata": {
    "collapsed": false
   },
   "outputs": [],
   "source": [
    "#Rename columns \n",
    "df.columns=['T_ID','P_ID','DOB','DOSR','Source','Slot']"
   ]
  },
  {
   "cell_type": "code",
   "execution_count": 5,
   "metadata": {
    "collapsed": false
   },
   "outputs": [],
   "source": [
    "#Convert Date of booking and service requested to datetime datatype\n",
    "df.DOB = pd.to_datetime(df['DOB'])\n",
    "df.DOSR = pd.to_datetime(df['DOSR'])"
   ]
  },
  {
   "cell_type": "markdown",
   "metadata": {},
   "source": [
    "## 1. NEW CUSTOMER BY MONTH"
   ]
  },
  {
   "cell_type": "code",
   "execution_count": 6,
   "metadata": {
    "collapsed": false
   },
   "outputs": [],
   "source": [
    "df1=df.groupby(df['P_ID'])['DOB'].min() #First booking of each User"
   ]
  },
  {
   "cell_type": "code",
   "execution_count": 7,
   "metadata": {
    "collapsed": false
   },
   "outputs": [],
   "source": [
    "df2=df1.dt.month\n",
    "df2=pd.DataFrame({'P_ID':df2.index, 'Month':df2.values})"
   ]
  },
  {
   "cell_type": "code",
   "execution_count": 8,
   "metadata": {
    "collapsed": false
   },
   "outputs": [],
   "source": [
    "df2=df2.groupby(df2['Month'])['P_ID'].count() #Number of bookings in each month"
   ]
  },
  {
   "cell_type": "code",
   "execution_count": 9,
   "metadata": {
    "collapsed": false
   },
   "outputs": [],
   "source": [
    "df2=pd.DataFrame({'Month':df2.index, 'New_Customer':df2.values})"
   ]
  },
  {
   "cell_type": "code",
   "execution_count": 10,
   "metadata": {
    "collapsed": false
   },
   "outputs": [],
   "source": [
    "df2.loc[-1] = df2.loc[11]  # adding a row\n",
    "df2.index = df2.index + 1  # shifting index\n",
    "df2.sort_index(inplace=True)"
   ]
  },
  {
   "cell_type": "code",
   "execution_count": 11,
   "metadata": {
    "collapsed": false
   },
   "outputs": [],
   "source": [
    "df3=df2[:-1]"
   ]
  },
  {
   "cell_type": "code",
   "execution_count": 12,
   "metadata": {
    "collapsed": false
   },
   "outputs": [
    {
     "data": {
      "text/html": [
       "<div>\n",
       "<table border=\"1\" class=\"dataframe\">\n",
       "  <thead>\n",
       "    <tr style=\"text-align: right;\">\n",
       "      <th></th>\n",
       "      <th>Month</th>\n",
       "      <th>New_Customer</th>\n",
       "    </tr>\n",
       "  </thead>\n",
       "  <tbody>\n",
       "    <tr>\n",
       "      <th>0</th>\n",
       "      <td>12</td>\n",
       "      <td>2424</td>\n",
       "    </tr>\n",
       "    <tr>\n",
       "      <th>1</th>\n",
       "      <td>1</td>\n",
       "      <td>1892</td>\n",
       "    </tr>\n",
       "    <tr>\n",
       "      <th>2</th>\n",
       "      <td>2</td>\n",
       "      <td>1549</td>\n",
       "    </tr>\n",
       "    <tr>\n",
       "      <th>3</th>\n",
       "      <td>3</td>\n",
       "      <td>1490</td>\n",
       "    </tr>\n",
       "    <tr>\n",
       "      <th>4</th>\n",
       "      <td>4</td>\n",
       "      <td>1346</td>\n",
       "    </tr>\n",
       "    <tr>\n",
       "      <th>5</th>\n",
       "      <td>5</td>\n",
       "      <td>1264</td>\n",
       "    </tr>\n",
       "    <tr>\n",
       "      <th>6</th>\n",
       "      <td>6</td>\n",
       "      <td>1273</td>\n",
       "    </tr>\n",
       "    <tr>\n",
       "      <th>7</th>\n",
       "      <td>7</td>\n",
       "      <td>1208</td>\n",
       "    </tr>\n",
       "    <tr>\n",
       "      <th>8</th>\n",
       "      <td>8</td>\n",
       "      <td>1120</td>\n",
       "    </tr>\n",
       "    <tr>\n",
       "      <th>9</th>\n",
       "      <td>9</td>\n",
       "      <td>1020</td>\n",
       "    </tr>\n",
       "    <tr>\n",
       "      <th>10</th>\n",
       "      <td>10</td>\n",
       "      <td>1110</td>\n",
       "    </tr>\n",
       "    <tr>\n",
       "      <th>11</th>\n",
       "      <td>11</td>\n",
       "      <td>1015</td>\n",
       "    </tr>\n",
       "  </tbody>\n",
       "</table>\n",
       "</div>"
      ],
      "text/plain": [
       "    Month  New_Customer\n",
       "0      12          2424\n",
       "1       1          1892\n",
       "2       2          1549\n",
       "3       3          1490\n",
       "4       4          1346\n",
       "5       5          1264\n",
       "6       6          1273\n",
       "7       7          1208\n",
       "8       8          1120\n",
       "9       9          1020\n",
       "10     10          1110\n",
       "11     11          1015"
      ]
     },
     "execution_count": 12,
     "metadata": {},
     "output_type": "execute_result"
    }
   ],
   "source": [
    "df3 #Month and no of new customer"
   ]
  },
  {
   "cell_type": "code",
   "execution_count": 13,
   "metadata": {
    "collapsed": false
   },
   "outputs": [],
   "source": [
    "label = ('DEC-17','JAN-18', 'FEB-18', 'MARCH-18', 'APRIL-18', 'MAY-18', 'JUNE-18', 'JULY-18', 'AUGUST-18',\n",
    "         'SEPT-18', 'OCT-18', 'NOV-18')"
   ]
  },
  {
   "cell_type": "code",
   "execution_count": 14,
   "metadata": {
    "collapsed": false,
    "scrolled": true
   },
   "outputs": [
    {
     "data": {
      "image/png": "[encoded data removed]",
      "text/plain": [
       "<matplotlib.figure.Figure at 0xcbf2c18>"
      ]
     },
     "metadata": {},
     "output_type": "display_data"
    }
   ],
   "source": [
    "y_pos = np.arange(len(label))\n",
    "plt.figure(figsize=(12,5)) \n",
    "plt.bar(y_pos, df3.New_Customer, align='edge', width=0.3,alpha=0.5)\n",
    "plt.xticks(y_pos, label)\n",
    "plt.title('New User Acquired every month')\n",
    "plt.ylabel('Number of User')\n",
    "plt.show()"
   ]
  },
  {
   "cell_type": "markdown",
   "metadata": {},
   "source": [
    "It is clearly seen that number of new customers acquired are decreasing with time. "
   ]
  },
  {
   "cell_type": "markdown",
   "metadata": {},
   "source": [
    "## 2. 30 DAY REPEAT RATE( For December 2017)"
   ]
  },
  {
   "cell_type": "code",
   "execution_count": 15,
   "metadata": {
    "collapsed": false
   },
   "outputs": [],
   "source": [
    "df5=df\n",
    "df6=df"
   ]
  },
  {
   "cell_type": "code",
   "execution_count": 16,
   "metadata": {
    "collapsed": false
   },
   "outputs": [],
   "source": [
    "df5=df5.loc[df5.groupby(\"P_ID\")[\"DOB\"].idxmin()]\n",
    "indexname=df5.index\n",
    "#First Booking of each user"
   ]
  },
  {
   "cell_type": "code",
   "execution_count": 17,
   "metadata": {
    "collapsed": false
   },
   "outputs": [],
   "source": [
    "df6=df6.drop(indexname)"
   ]
  },
  {
   "cell_type": "code",
   "execution_count": 18,
   "metadata": {
    "collapsed": false
   },
   "outputs": [],
   "source": [
    "df6.rename(columns={'DOB': 'Date2'}, inplace=True)\n"
   ]
  },
  {
   "cell_type": "code",
   "execution_count": 19,
   "metadata": {
    "collapsed": false
   },
   "outputs": [],
   "source": [
    "df6=df6.loc[df6.groupby(\"P_ID\")[\"Date2\"].idxmin()]\n",
    "#second Booking of each user"
   ]
  },
  {
   "cell_type": "code",
   "execution_count": 20,
   "metadata": {
    "collapsed": false
   },
   "outputs": [],
   "source": [
    "s1 = pd.merge(df5, df6, how='left', on=['P_ID'])"
   ]
  },
  {
   "cell_type": "code",
   "execution_count": 21,
   "metadata": {
    "collapsed": false
   },
   "outputs": [],
   "source": [
    "s2=s1[s1.DOB.dt.month==12]\n",
    "#Taking only user with first booking in month of december"
   ]
  },
  {
   "cell_type": "code",
   "execution_count": 22,
   "metadata": {
    "collapsed": false
   },
   "outputs": [],
   "source": [
    "Total=s2.P_ID.count()\n",
    "#Total number of user acquired in december"
   ]
  },
  {
   "cell_type": "code",
   "execution_count": 23,
   "metadata": {
    "collapsed": false
   },
   "outputs": [],
   "source": [
    "s2=s2.dropna()"
   ]
  },
  {
   "cell_type": "code",
   "execution_count": 24,
   "metadata": {
    "collapsed": false
   },
   "outputs": [],
   "source": [
    "s3= s2['Date2'].subtract(s2['DOB'])\n",
    "#Difference between first and second booking"
   ]
  },
  {
   "cell_type": "code",
   "execution_count": 25,
   "metadata": {
    "collapsed": true
   },
   "outputs": [],
   "source": [
    "c=0"
   ]
  },
  {
   "cell_type": "code",
   "execution_count": 26,
   "metadata": {
    "collapsed": false
   },
   "outputs": [],
   "source": [
    "for x in s3:\n",
    "    if x.days<=30:\n",
    "        c=c+1\n",
    "#count the number of user with 30 day or less difference between first and second booking"
   ]
  },
  {
   "cell_type": "code",
   "execution_count": 27,
   "metadata": {
    "collapsed": false
   },
   "outputs": [
    {
     "name": "stdout",
     "output_type": "stream",
     "text": [
      "16.831683168316832\n"
     ]
    }
   ],
   "source": [
    "print (c/Total*100)\n",
    "#percentage of 30 day repeat rate"
   ]
  },
  {
   "cell_type": "markdown",
   "metadata": {
    "collapsed": true
   },
   "source": [
    "#### Therefore the 30 day Repeat Rate perfect for December 2017 Customers is 16.8 Approximately.\n"
   ]
  },
  {
   "cell_type": "markdown",
   "metadata": {},
   "source": [
    "# 3. 90 DAY REPEAT RATE( For Jan, Feb and March 2018)"
   ]
  },
  {
   "cell_type": "code",
   "execution_count": 28,
   "metadata": {
    "collapsed": false
   },
   "outputs": [],
   "source": [
    "s4=s1[(s1.DOB.dt.month==1) | (s1.DOB.dt.month==2) | (s1.DOB.dt.month==3)]\n",
    "##Taking for months of Jan, Feb and March only"
   ]
  },
  {
   "cell_type": "code",
   "execution_count": 29,
   "metadata": {
    "collapsed": false
   },
   "outputs": [],
   "source": [
    "Total1=s4.P_ID.count()\n",
    "#Total Number of user acquired"
   ]
  },
  {
   "cell_type": "code",
   "execution_count": 30,
   "metadata": {
    "collapsed": false
   },
   "outputs": [],
   "source": [
    "s4=s4.dropna()"
   ]
  },
  {
   "cell_type": "code",
   "execution_count": 31,
   "metadata": {
    "collapsed": true
   },
   "outputs": [],
   "source": [
    "s5= s4['Date2'].subtract(s4['DOB'])\n",
    "#Difference between fist and second booking"
   ]
  },
  {
   "cell_type": "code",
   "execution_count": 32,
   "metadata": {
    "collapsed": false
   },
   "outputs": [],
   "source": [
    "m=0"
   ]
  },
  {
   "cell_type": "code",
   "execution_count": 33,
   "metadata": {
    "collapsed": true
   },
   "outputs": [],
   "source": [
    "for x in s5:\n",
    "    if x.days<=90:\n",
    "        m=m+1\n",
    "#count the number of user with 90 day or less difference between first and second booking"
   ]
  },
  {
   "cell_type": "code",
   "execution_count": 34,
   "metadata": {
    "collapsed": false
   },
   "outputs": [
    {
     "name": "stdout",
     "output_type": "stream",
     "text": [
      "20.74629892516731\n"
     ]
    }
   ],
   "source": [
    "print (m/Total1*100)\n",
    "#Percentage of 90 day repeat rate in month of Jan, feb and march"
   ]
  },
  {
   "cell_type": "markdown",
   "metadata": {},
   "source": [
    "#### Therefore the 90 day Repeat Rate perfect for January, February and March 2018 Customers is 20.7 Approximately.\n"
   ]
  },
  {
   "cell_type": "markdown",
   "metadata": {},
   "source": [
    "## 4. LOGISTIC REGRESSION MODEL TO PREDICT 90 DAYS REPEAT RATE FOR CUSTOMER ACQUIRED IN NOVEMBER 2018 \n"
   ]
  },
  {
   "cell_type": "code",
   "execution_count": 35,
   "metadata": {
    "collapsed": false
   },
   "outputs": [],
   "source": [
    "p1=s1"
   ]
  },
  {
   "cell_type": "code",
   "execution_count": 36,
   "metadata": {
    "collapsed": false
   },
   "outputs": [],
   "source": [
    "p1['Diff_bw_booking_request']= p1['DOSR_x'].subtract(p1['DOB']).dt.days\n",
    "#Calculating difference between the date of booking and date of service requested"
   ]
  },
  {
   "cell_type": "code",
   "execution_count": 37,
   "metadata": {
    "collapsed": false
   },
   "outputs": [],
   "source": [
    "train_data=p1[p1.DOB.dt.month!=11]\n",
    "#selecting data for user acquired in month of november as training"
   ]
  },
  {
   "cell_type": "code",
   "execution_count": 38,
   "metadata": {
    "collapsed": false
   },
   "outputs": [],
   "source": [
    "test_data=p1[p1.DOB.dt.month==11]\n",
    "#selecting rest of data as training"
   ]
  },
  {
   "cell_type": "code",
   "execution_count": 39,
   "metadata": {
    "collapsed": false
   },
   "outputs": [],
   "source": [
    "train_data=train_data.dropna()"
   ]
  },
  {
   "cell_type": "code",
   "execution_count": 40,
   "metadata": {
    "collapsed": false
   },
   "outputs": [],
   "source": [
    "train_data['RepeatRate']= train_data['Date2'].subtract(train_data['DOB'])\n",
    "#Difference between the first and second booking"
   ]
  },
  {
   "cell_type": "code",
   "execution_count": 41,
   "metadata": {
    "collapsed": false
   },
   "outputs": [],
   "source": [
    "train_data['Label']=train_data.RepeatRate.dt.days<=90\n",
    "#selecting only those with difference less than or equal to 90"
   ]
  },
  {
   "cell_type": "code",
   "execution_count": 42,
   "metadata": {
    "collapsed": false
   },
   "outputs": [],
   "source": [
    "train_data['Label']=train_data['Label'].astype(int)"
   ]
  },
  {
   "cell_type": "code",
   "execution_count": 43,
   "metadata": {
    "collapsed": false
   },
   "outputs": [],
   "source": [
    "train_data=train_data.drop(['T_ID_x', 'T_ID_y'], axis=1)"
   ]
  },
  {
   "cell_type": "code",
   "execution_count": 44,
   "metadata": {
    "collapsed": false
   },
   "outputs": [],
   "source": [
    "feature_cols = ['Slot_x', 'Diff_bw_booking_request','Source_x']\n",
    "x_train = train_data[feature_cols] # Features\n",
    "y_train = train_data.Label # Target variable"
   ]
  },
  {
   "cell_type": "code",
   "execution_count": 45,
   "metadata": {
    "collapsed": true
   },
   "outputs": [],
   "source": [
    "from sklearn.preprocessing import StandardScaler\n",
    "sc = StandardScaler()"
   ]
  },
  {
   "cell_type": "code",
   "execution_count": 46,
   "metadata": {
    "collapsed": true
   },
   "outputs": [],
   "source": [
    "x_train = sc.fit_transform(x_train)"
   ]
  },
  {
   "cell_type": "code",
   "execution_count": 47,
   "metadata": {
    "collapsed": false
   },
   "outputs": [
    {
     "data": {
      "text/plain": [
       "LogisticRegression(C=1.0, class_weight=None, dual=False, fit_intercept=True,\n",
       "          intercept_scaling=1, max_iter=100, multi_class='ovr', n_jobs=1,\n",
       "          penalty='l2', random_state=0, solver='liblinear', tol=0.0001,\n",
       "          verbose=0, warm_start=False)"
      ]
     },
     "execution_count": 47,
     "metadata": {},
     "output_type": "execute_result"
    }
   ],
   "source": [
    "from sklearn.linear_model import LogisticRegression\n",
    "classifier = LogisticRegression(random_state = 0)\n",
    "classifier.fit(x_train,y_train)"
   ]
  },
  {
   "cell_type": "code",
   "execution_count": 48,
   "metadata": {
    "collapsed": false
   },
   "outputs": [],
   "source": [
    "feature_cols = ['Slot_x', 'Diff_bw_booking_request','Source_x']\n",
    "x_test= test_data[feature_cols]"
   ]
  },
  {
   "cell_type": "code",
   "execution_count": 49,
   "metadata": {
    "collapsed": false
   },
   "outputs": [],
   "source": [
    "y_pred = classifier.predict(x_test)"
   ]
  },
  {
   "cell_type": "code",
   "execution_count": 50,
   "metadata": {
    "collapsed": false
   },
   "outputs": [
    {
     "name": "stderr",
     "output_type": "stream",
     "text": [
      "C:\\Users\\Chaitali Bansal\\Anaconda2\\lib\\site-packages\\ipykernel\\__main__.py:1: SettingWithCopyWarning: \n",
      "A value is trying to be set on a copy of a slice from a DataFrame.\n",
      "Try using .loc[row_indexer,col_indexer] = value instead\n",
      "\n",
      "See the caveats in the documentation: http://pandas.pydata.org/pandas-docs/stable/indexing.html#indexing-view-versus-copy\n",
      "  if __name__ == '__main__':\n"
     ]
    }
   ],
   "source": [
    "test_data['Result']=y_pred"
   ]
  },
  {
   "cell_type": "code",
   "execution_count": 51,
   "metadata": {
    "collapsed": false
   },
   "outputs": [],
   "source": [
    "feature_col = ['T_ID_x','P_ID','DOB','Slot_x', 'Diff_bw_booking_request','Source_x','Result']"
   ]
  },
  {
   "cell_type": "code",
   "execution_count": 52,
   "metadata": {
    "collapsed": true
   },
   "outputs": [],
   "source": [
    "FinalResult= test_data[feature_col]"
   ]
  },
  {
   "cell_type": "code",
   "execution_count": 53,
   "metadata": {
    "collapsed": false
   },
   "outputs": [
    {
     "data": {
      "text/html": [
       "<div>\n",
       "<table border=\"1\" class=\"dataframe\">\n",
       "  <thead>\n",
       "    <tr style=\"text-align: right;\">\n",
       "      <th></th>\n",
       "      <th>T_ID_x</th>\n",
       "      <th>P_ID</th>\n",
       "      <th>DOB</th>\n",
       "      <th>Slot_x</th>\n",
       "      <th>Diff_bw_booking_request</th>\n",
       "      <th>Source_x</th>\n",
       "      <th>Result</th>\n",
       "    </tr>\n",
       "  </thead>\n",
       "  <tbody>\n",
       "    <tr>\n",
       "      <th>1</th>\n",
       "      <td>DYDMF</td>\n",
       "      <td>2</td>\n",
       "      <td>2018-11-10</td>\n",
       "      <td>11</td>\n",
       "      <td>3</td>\n",
       "      <td>3</td>\n",
       "      <td>1</td>\n",
       "    </tr>\n",
       "    <tr>\n",
       "      <th>7</th>\n",
       "      <td>TDVFU</td>\n",
       "      <td>8</td>\n",
       "      <td>2018-11-29</td>\n",
       "      <td>10</td>\n",
       "      <td>0</td>\n",
       "      <td>3</td>\n",
       "      <td>1</td>\n",
       "    </tr>\n",
       "    <tr>\n",
       "      <th>20</th>\n",
       "      <td>QIYRA</td>\n",
       "      <td>21</td>\n",
       "      <td>2018-11-27</td>\n",
       "      <td>8</td>\n",
       "      <td>0</td>\n",
       "      <td>2</td>\n",
       "      <td>1</td>\n",
       "    </tr>\n",
       "    <tr>\n",
       "      <th>61</th>\n",
       "      <td>KGYWP</td>\n",
       "      <td>62</td>\n",
       "      <td>2018-11-11</td>\n",
       "      <td>14</td>\n",
       "      <td>1</td>\n",
       "      <td>3</td>\n",
       "      <td>1</td>\n",
       "    </tr>\n",
       "    <tr>\n",
       "      <th>84</th>\n",
       "      <td>QFPHG</td>\n",
       "      <td>85</td>\n",
       "      <td>2018-11-04</td>\n",
       "      <td>6</td>\n",
       "      <td>2</td>\n",
       "      <td>4</td>\n",
       "      <td>1</td>\n",
       "    </tr>\n",
       "    <tr>\n",
       "      <th>93</th>\n",
       "      <td>UNMBP</td>\n",
       "      <td>94</td>\n",
       "      <td>2018-11-22</td>\n",
       "      <td>10</td>\n",
       "      <td>1</td>\n",
       "      <td>4</td>\n",
       "      <td>1</td>\n",
       "    </tr>\n",
       "    <tr>\n",
       "      <th>115</th>\n",
       "      <td>LOCOR</td>\n",
       "      <td>116</td>\n",
       "      <td>2018-11-17</td>\n",
       "      <td>14</td>\n",
       "      <td>4</td>\n",
       "      <td>3</td>\n",
       "      <td>0</td>\n",
       "    </tr>\n",
       "    <tr>\n",
       "      <th>204</th>\n",
       "      <td>SKPXC</td>\n",
       "      <td>205</td>\n",
       "      <td>2018-11-23</td>\n",
       "      <td>17</td>\n",
       "      <td>2</td>\n",
       "      <td>2</td>\n",
       "      <td>0</td>\n",
       "    </tr>\n",
       "    <tr>\n",
       "      <th>218</th>\n",
       "      <td>HHJQP</td>\n",
       "      <td>219</td>\n",
       "      <td>2018-11-13</td>\n",
       "      <td>12</td>\n",
       "      <td>3</td>\n",
       "      <td>4</td>\n",
       "      <td>0</td>\n",
       "    </tr>\n",
       "    <tr>\n",
       "      <th>247</th>\n",
       "      <td>CFJKQ</td>\n",
       "      <td>248</td>\n",
       "      <td>2018-11-24</td>\n",
       "      <td>19</td>\n",
       "      <td>0</td>\n",
       "      <td>2</td>\n",
       "      <td>0</td>\n",
       "    </tr>\n",
       "    <tr>\n",
       "      <th>251</th>\n",
       "      <td>IBYJL</td>\n",
       "      <td>252</td>\n",
       "      <td>2018-11-09</td>\n",
       "      <td>13</td>\n",
       "      <td>0</td>\n",
       "      <td>3</td>\n",
       "      <td>1</td>\n",
       "    </tr>\n",
       "    <tr>\n",
       "      <th>261</th>\n",
       "      <td>RVMSJ</td>\n",
       "      <td>262</td>\n",
       "      <td>2018-11-25</td>\n",
       "      <td>6</td>\n",
       "      <td>0</td>\n",
       "      <td>3</td>\n",
       "      <td>1</td>\n",
       "    </tr>\n",
       "    <tr>\n",
       "      <th>269</th>\n",
       "      <td>HRVML</td>\n",
       "      <td>270</td>\n",
       "      <td>2018-11-07</td>\n",
       "      <td>15</td>\n",
       "      <td>3</td>\n",
       "      <td>3</td>\n",
       "      <td>0</td>\n",
       "    </tr>\n",
       "    <tr>\n",
       "      <th>270</th>\n",
       "      <td>UWKZC</td>\n",
       "      <td>271</td>\n",
       "      <td>2018-11-29</td>\n",
       "      <td>18</td>\n",
       "      <td>5</td>\n",
       "      <td>3</td>\n",
       "      <td>0</td>\n",
       "    </tr>\n",
       "    <tr>\n",
       "      <th>297</th>\n",
       "      <td>EGQFI</td>\n",
       "      <td>298</td>\n",
       "      <td>2018-11-18</td>\n",
       "      <td>7</td>\n",
       "      <td>2</td>\n",
       "      <td>3</td>\n",
       "      <td>1</td>\n",
       "    </tr>\n",
       "    <tr>\n",
       "      <th>305</th>\n",
       "      <td>QNCPK</td>\n",
       "      <td>306</td>\n",
       "      <td>2018-11-21</td>\n",
       "      <td>18</td>\n",
       "      <td>2</td>\n",
       "      <td>3</td>\n",
       "      <td>0</td>\n",
       "    </tr>\n",
       "    <tr>\n",
       "      <th>326</th>\n",
       "      <td>DTEIC</td>\n",
       "      <td>327</td>\n",
       "      <td>2018-11-15</td>\n",
       "      <td>11</td>\n",
       "      <td>2</td>\n",
       "      <td>2</td>\n",
       "      <td>1</td>\n",
       "    </tr>\n",
       "    <tr>\n",
       "      <th>350</th>\n",
       "      <td>VHBUU</td>\n",
       "      <td>351</td>\n",
       "      <td>2018-11-22</td>\n",
       "      <td>12</td>\n",
       "      <td>2</td>\n",
       "      <td>2</td>\n",
       "      <td>1</td>\n",
       "    </tr>\n",
       "    <tr>\n",
       "      <th>361</th>\n",
       "      <td>HWKMV</td>\n",
       "      <td>362</td>\n",
       "      <td>2018-11-05</td>\n",
       "      <td>18</td>\n",
       "      <td>3</td>\n",
       "      <td>2</td>\n",
       "      <td>0</td>\n",
       "    </tr>\n",
       "    <tr>\n",
       "      <th>373</th>\n",
       "      <td>BBPGN</td>\n",
       "      <td>374</td>\n",
       "      <td>2018-11-07</td>\n",
       "      <td>8</td>\n",
       "      <td>1</td>\n",
       "      <td>4</td>\n",
       "      <td>1</td>\n",
       "    </tr>\n",
       "    <tr>\n",
       "      <th>385</th>\n",
       "      <td>FEYFP</td>\n",
       "      <td>386</td>\n",
       "      <td>2018-11-15</td>\n",
       "      <td>6</td>\n",
       "      <td>3</td>\n",
       "      <td>2</td>\n",
       "      <td>1</td>\n",
       "    </tr>\n",
       "    <tr>\n",
       "      <th>391</th>\n",
       "      <td>FOFMP</td>\n",
       "      <td>392</td>\n",
       "      <td>2018-11-02</td>\n",
       "      <td>8</td>\n",
       "      <td>2</td>\n",
       "      <td>2</td>\n",
       "      <td>1</td>\n",
       "    </tr>\n",
       "    <tr>\n",
       "      <th>412</th>\n",
       "      <td>SCPJH</td>\n",
       "      <td>413</td>\n",
       "      <td>2018-11-28</td>\n",
       "      <td>8</td>\n",
       "      <td>5</td>\n",
       "      <td>1</td>\n",
       "      <td>1</td>\n",
       "    </tr>\n",
       "    <tr>\n",
       "      <th>492</th>\n",
       "      <td>WOTJN</td>\n",
       "      <td>493</td>\n",
       "      <td>2018-11-14</td>\n",
       "      <td>6</td>\n",
       "      <td>3</td>\n",
       "      <td>2</td>\n",
       "      <td>1</td>\n",
       "    </tr>\n",
       "    <tr>\n",
       "      <th>495</th>\n",
       "      <td>JUUEM</td>\n",
       "      <td>496</td>\n",
       "      <td>2018-11-23</td>\n",
       "      <td>14</td>\n",
       "      <td>4</td>\n",
       "      <td>2</td>\n",
       "      <td>0</td>\n",
       "    </tr>\n",
       "    <tr>\n",
       "      <th>508</th>\n",
       "      <td>VJFPU</td>\n",
       "      <td>509</td>\n",
       "      <td>2018-11-01</td>\n",
       "      <td>11</td>\n",
       "      <td>5</td>\n",
       "      <td>1</td>\n",
       "      <td>0</td>\n",
       "    </tr>\n",
       "    <tr>\n",
       "      <th>517</th>\n",
       "      <td>LDPTG</td>\n",
       "      <td>518</td>\n",
       "      <td>2018-11-10</td>\n",
       "      <td>14</td>\n",
       "      <td>4</td>\n",
       "      <td>3</td>\n",
       "      <td>0</td>\n",
       "    </tr>\n",
       "    <tr>\n",
       "      <th>518</th>\n",
       "      <td>NFEBU</td>\n",
       "      <td>519</td>\n",
       "      <td>2018-11-09</td>\n",
       "      <td>14</td>\n",
       "      <td>0</td>\n",
       "      <td>1</td>\n",
       "      <td>1</td>\n",
       "    </tr>\n",
       "    <tr>\n",
       "      <th>542</th>\n",
       "      <td>FCOAA</td>\n",
       "      <td>543</td>\n",
       "      <td>2018-11-22</td>\n",
       "      <td>15</td>\n",
       "      <td>2</td>\n",
       "      <td>3</td>\n",
       "      <td>0</td>\n",
       "    </tr>\n",
       "    <tr>\n",
       "      <th>571</th>\n",
       "      <td>HCZLK</td>\n",
       "      <td>572</td>\n",
       "      <td>2018-11-28</td>\n",
       "      <td>9</td>\n",
       "      <td>4</td>\n",
       "      <td>2</td>\n",
       "      <td>1</td>\n",
       "    </tr>\n",
       "    <tr>\n",
       "      <th>...</th>\n",
       "      <td>...</td>\n",
       "      <td>...</td>\n",
       "      <td>...</td>\n",
       "      <td>...</td>\n",
       "      <td>...</td>\n",
       "      <td>...</td>\n",
       "      <td>...</td>\n",
       "    </tr>\n",
       "    <tr>\n",
       "      <th>16241</th>\n",
       "      <td>FXJNO</td>\n",
       "      <td>16242</td>\n",
       "      <td>2018-11-01</td>\n",
       "      <td>12</td>\n",
       "      <td>1</td>\n",
       "      <td>4</td>\n",
       "      <td>1</td>\n",
       "    </tr>\n",
       "    <tr>\n",
       "      <th>16260</th>\n",
       "      <td>CQEIB</td>\n",
       "      <td>16261</td>\n",
       "      <td>2018-11-12</td>\n",
       "      <td>12</td>\n",
       "      <td>0</td>\n",
       "      <td>4</td>\n",
       "      <td>1</td>\n",
       "    </tr>\n",
       "    <tr>\n",
       "      <th>16292</th>\n",
       "      <td>GNZCU</td>\n",
       "      <td>16293</td>\n",
       "      <td>2018-11-05</td>\n",
       "      <td>14</td>\n",
       "      <td>0</td>\n",
       "      <td>2</td>\n",
       "      <td>1</td>\n",
       "    </tr>\n",
       "    <tr>\n",
       "      <th>16302</th>\n",
       "      <td>BRULL</td>\n",
       "      <td>16303</td>\n",
       "      <td>2018-11-04</td>\n",
       "      <td>13</td>\n",
       "      <td>3</td>\n",
       "      <td>2</td>\n",
       "      <td>0</td>\n",
       "    </tr>\n",
       "    <tr>\n",
       "      <th>16336</th>\n",
       "      <td>ATJFZ</td>\n",
       "      <td>16337</td>\n",
       "      <td>2018-11-02</td>\n",
       "      <td>9</td>\n",
       "      <td>1</td>\n",
       "      <td>2</td>\n",
       "      <td>1</td>\n",
       "    </tr>\n",
       "    <tr>\n",
       "      <th>16342</th>\n",
       "      <td>GFLBL</td>\n",
       "      <td>16343</td>\n",
       "      <td>2018-11-16</td>\n",
       "      <td>18</td>\n",
       "      <td>1</td>\n",
       "      <td>4</td>\n",
       "      <td>0</td>\n",
       "    </tr>\n",
       "    <tr>\n",
       "      <th>16357</th>\n",
       "      <td>GCGJK</td>\n",
       "      <td>16358</td>\n",
       "      <td>2018-11-05</td>\n",
       "      <td>16</td>\n",
       "      <td>5</td>\n",
       "      <td>3</td>\n",
       "      <td>0</td>\n",
       "    </tr>\n",
       "    <tr>\n",
       "      <th>16361</th>\n",
       "      <td>MZFBX</td>\n",
       "      <td>16362</td>\n",
       "      <td>2018-11-29</td>\n",
       "      <td>14</td>\n",
       "      <td>5</td>\n",
       "      <td>4</td>\n",
       "      <td>0</td>\n",
       "    </tr>\n",
       "    <tr>\n",
       "      <th>16367</th>\n",
       "      <td>CKNPV</td>\n",
       "      <td>16368</td>\n",
       "      <td>2018-11-11</td>\n",
       "      <td>17</td>\n",
       "      <td>1</td>\n",
       "      <td>3</td>\n",
       "      <td>0</td>\n",
       "    </tr>\n",
       "    <tr>\n",
       "      <th>16400</th>\n",
       "      <td>CGTJV</td>\n",
       "      <td>16401</td>\n",
       "      <td>2018-11-28</td>\n",
       "      <td>19</td>\n",
       "      <td>4</td>\n",
       "      <td>3</td>\n",
       "      <td>0</td>\n",
       "    </tr>\n",
       "    <tr>\n",
       "      <th>16404</th>\n",
       "      <td>ZZSPV</td>\n",
       "      <td>16405</td>\n",
       "      <td>2018-11-16</td>\n",
       "      <td>13</td>\n",
       "      <td>2</td>\n",
       "      <td>3</td>\n",
       "      <td>1</td>\n",
       "    </tr>\n",
       "    <tr>\n",
       "      <th>16408</th>\n",
       "      <td>LUTUM</td>\n",
       "      <td>16409</td>\n",
       "      <td>2018-11-08</td>\n",
       "      <td>14</td>\n",
       "      <td>1</td>\n",
       "      <td>1</td>\n",
       "      <td>1</td>\n",
       "    </tr>\n",
       "    <tr>\n",
       "      <th>16410</th>\n",
       "      <td>MLZCD</td>\n",
       "      <td>16411</td>\n",
       "      <td>2018-11-22</td>\n",
       "      <td>14</td>\n",
       "      <td>1</td>\n",
       "      <td>3</td>\n",
       "      <td>1</td>\n",
       "    </tr>\n",
       "    <tr>\n",
       "      <th>16425</th>\n",
       "      <td>NBJHV</td>\n",
       "      <td>16426</td>\n",
       "      <td>2018-11-21</td>\n",
       "      <td>14</td>\n",
       "      <td>5</td>\n",
       "      <td>3</td>\n",
       "      <td>0</td>\n",
       "    </tr>\n",
       "    <tr>\n",
       "      <th>16426</th>\n",
       "      <td>OMXLY</td>\n",
       "      <td>16427</td>\n",
       "      <td>2018-11-07</td>\n",
       "      <td>14</td>\n",
       "      <td>5</td>\n",
       "      <td>3</td>\n",
       "      <td>0</td>\n",
       "    </tr>\n",
       "    <tr>\n",
       "      <th>16430</th>\n",
       "      <td>LCSVN</td>\n",
       "      <td>16431</td>\n",
       "      <td>2018-11-26</td>\n",
       "      <td>14</td>\n",
       "      <td>1</td>\n",
       "      <td>1</td>\n",
       "      <td>1</td>\n",
       "    </tr>\n",
       "    <tr>\n",
       "      <th>16435</th>\n",
       "      <td>HCZLR</td>\n",
       "      <td>16436</td>\n",
       "      <td>2018-11-15</td>\n",
       "      <td>12</td>\n",
       "      <td>3</td>\n",
       "      <td>4</td>\n",
       "      <td>0</td>\n",
       "    </tr>\n",
       "    <tr>\n",
       "      <th>16441</th>\n",
       "      <td>DUJYK</td>\n",
       "      <td>16442</td>\n",
       "      <td>2018-11-28</td>\n",
       "      <td>11</td>\n",
       "      <td>3</td>\n",
       "      <td>3</td>\n",
       "      <td>1</td>\n",
       "    </tr>\n",
       "    <tr>\n",
       "      <th>16453</th>\n",
       "      <td>REHEV</td>\n",
       "      <td>16454</td>\n",
       "      <td>2018-11-14</td>\n",
       "      <td>13</td>\n",
       "      <td>1</td>\n",
       "      <td>3</td>\n",
       "      <td>1</td>\n",
       "    </tr>\n",
       "    <tr>\n",
       "      <th>16477</th>\n",
       "      <td>EQVMN</td>\n",
       "      <td>16478</td>\n",
       "      <td>2018-11-23</td>\n",
       "      <td>16</td>\n",
       "      <td>4</td>\n",
       "      <td>2</td>\n",
       "      <td>0</td>\n",
       "    </tr>\n",
       "    <tr>\n",
       "      <th>16481</th>\n",
       "      <td>RXJTK</td>\n",
       "      <td>16482</td>\n",
       "      <td>2018-11-05</td>\n",
       "      <td>19</td>\n",
       "      <td>0</td>\n",
       "      <td>2</td>\n",
       "      <td>0</td>\n",
       "    </tr>\n",
       "    <tr>\n",
       "      <th>16492</th>\n",
       "      <td>OKRFU</td>\n",
       "      <td>16493</td>\n",
       "      <td>2018-11-04</td>\n",
       "      <td>14</td>\n",
       "      <td>4</td>\n",
       "      <td>2</td>\n",
       "      <td>0</td>\n",
       "    </tr>\n",
       "    <tr>\n",
       "      <th>16545</th>\n",
       "      <td>FKQDN</td>\n",
       "      <td>16546</td>\n",
       "      <td>2018-11-21</td>\n",
       "      <td>11</td>\n",
       "      <td>0</td>\n",
       "      <td>2</td>\n",
       "      <td>1</td>\n",
       "    </tr>\n",
       "    <tr>\n",
       "      <th>16572</th>\n",
       "      <td>JJYKG</td>\n",
       "      <td>16573</td>\n",
       "      <td>2018-11-29</td>\n",
       "      <td>14</td>\n",
       "      <td>5</td>\n",
       "      <td>4</td>\n",
       "      <td>0</td>\n",
       "    </tr>\n",
       "    <tr>\n",
       "      <th>16593</th>\n",
       "      <td>LDQDO</td>\n",
       "      <td>16594</td>\n",
       "      <td>2018-11-22</td>\n",
       "      <td>14</td>\n",
       "      <td>3</td>\n",
       "      <td>1</td>\n",
       "      <td>0</td>\n",
       "    </tr>\n",
       "    <tr>\n",
       "      <th>16614</th>\n",
       "      <td>MKCNH</td>\n",
       "      <td>16615</td>\n",
       "      <td>2018-11-23</td>\n",
       "      <td>14</td>\n",
       "      <td>1</td>\n",
       "      <td>2</td>\n",
       "      <td>1</td>\n",
       "    </tr>\n",
       "    <tr>\n",
       "      <th>16680</th>\n",
       "      <td>SUAQY</td>\n",
       "      <td>16681</td>\n",
       "      <td>2018-11-09</td>\n",
       "      <td>14</td>\n",
       "      <td>0</td>\n",
       "      <td>2</td>\n",
       "      <td>1</td>\n",
       "    </tr>\n",
       "    <tr>\n",
       "      <th>16683</th>\n",
       "      <td>MPLRD</td>\n",
       "      <td>16684</td>\n",
       "      <td>2018-11-19</td>\n",
       "      <td>14</td>\n",
       "      <td>4</td>\n",
       "      <td>4</td>\n",
       "      <td>0</td>\n",
       "    </tr>\n",
       "    <tr>\n",
       "      <th>16684</th>\n",
       "      <td>AYBAL</td>\n",
       "      <td>16685</td>\n",
       "      <td>2018-11-30</td>\n",
       "      <td>6</td>\n",
       "      <td>2</td>\n",
       "      <td>3</td>\n",
       "      <td>1</td>\n",
       "    </tr>\n",
       "    <tr>\n",
       "      <th>16693</th>\n",
       "      <td>BPNYR</td>\n",
       "      <td>16694</td>\n",
       "      <td>2018-11-13</td>\n",
       "      <td>11</td>\n",
       "      <td>4</td>\n",
       "      <td>3</td>\n",
       "      <td>0</td>\n",
       "    </tr>\n",
       "  </tbody>\n",
       "</table>\n",
       "<p>1015 rows × 7 columns</p>\n",
       "</div>"
      ],
      "text/plain": [
       "      T_ID_x   P_ID        DOB  Slot_x  Diff_bw_booking_request  Source_x  \\\n",
       "1      DYDMF      2 2018-11-10      11                        3         3   \n",
       "7      TDVFU      8 2018-11-29      10                        0         3   \n",
       "20     QIYRA     21 2018-11-27       8                        0         2   \n",
       "61     KGYWP     62 2018-11-11      14                        1         3   \n",
       "84     QFPHG     85 2018-11-04       6                        2         4   \n",
       "93     UNMBP     94 2018-11-22      10                        1         4   \n",
       "115    LOCOR    116 2018-11-17      14                        4         3   \n",
       "204    SKPXC    205 2018-11-23      17                        2         2   \n",
       "218    HHJQP    219 2018-11-13      12                        3         4   \n",
       "247    CFJKQ    248 2018-11-24      19                        0         2   \n",
       "251    IBYJL    252 2018-11-09      13                        0         3   \n",
       "261    RVMSJ    262 2018-11-25       6                        0         3   \n",
       "269    HRVML    270 2018-11-07      15                        3         3   \n",
       "270    UWKZC    271 2018-11-29      18                        5         3   \n",
       "297    EGQFI    298 2018-11-18       7                        2         3   \n",
       "305    QNCPK    306 2018-11-21      18                        2         3   \n",
       "326    DTEIC    327 2018-11-15      11                        2         2   \n",
       "350    VHBUU    351 2018-11-22      12                        2         2   \n",
       "361    HWKMV    362 2018-11-05      18                        3         2   \n",
       "373    BBPGN    374 2018-11-07       8                        1         4   \n",
       "385    FEYFP    386 2018-11-15       6                        3         2   \n",
       "391    FOFMP    392 2018-11-02       8                        2         2   \n",
       "412    SCPJH    413 2018-11-28       8                        5         1   \n",
       "492    WOTJN    493 2018-11-14       6                        3         2   \n",
       "495    JUUEM    496 2018-11-23      14                        4         2   \n",
       "508    VJFPU    509 2018-11-01      11                        5         1   \n",
       "517    LDPTG    518 2018-11-10      14                        4         3   \n",
       "518    NFEBU    519 2018-11-09      14                        0         1   \n",
       "542    FCOAA    543 2018-11-22      15                        2         3   \n",
       "571    HCZLK    572 2018-11-28       9                        4         2   \n",
       "...      ...    ...        ...     ...                      ...       ...   \n",
       "16241  FXJNO  16242 2018-11-01      12                        1         4   \n",
       "16260  CQEIB  16261 2018-11-12      12                        0         4   \n",
       "16292  GNZCU  16293 2018-11-05      14                        0         2   \n",
       "16302  BRULL  16303 2018-11-04      13                        3         2   \n",
       "16336  ATJFZ  16337 2018-11-02       9                        1         2   \n",
       "16342  GFLBL  16343 2018-11-16      18                        1         4   \n",
       "16357  GCGJK  16358 2018-11-05      16                        5         3   \n",
       "16361  MZFBX  16362 2018-11-29      14                        5         4   \n",
       "16367  CKNPV  16368 2018-11-11      17                        1         3   \n",
       "16400  CGTJV  16401 2018-11-28      19                        4         3   \n",
       "16404  ZZSPV  16405 2018-11-16      13                        2         3   \n",
       "16408  LUTUM  16409 2018-11-08      14                        1         1   \n",
       "16410  MLZCD  16411 2018-11-22      14                        1         3   \n",
       "16425  NBJHV  16426 2018-11-21      14                        5         3   \n",
       "16426  OMXLY  16427 2018-11-07      14                        5         3   \n",
       "16430  LCSVN  16431 2018-11-26      14                        1         1   \n",
       "16435  HCZLR  16436 2018-11-15      12                        3         4   \n",
       "16441  DUJYK  16442 2018-11-28      11                        3         3   \n",
       "16453  REHEV  16454 2018-11-14      13                        1         3   \n",
       "16477  EQVMN  16478 2018-11-23      16                        4         2   \n",
       "16481  RXJTK  16482 2018-11-05      19                        0         2   \n",
       "16492  OKRFU  16493 2018-11-04      14                        4         2   \n",
       "16545  FKQDN  16546 2018-11-21      11                        0         2   \n",
       "16572  JJYKG  16573 2018-11-29      14                        5         4   \n",
       "16593  LDQDO  16594 2018-11-22      14                        3         1   \n",
       "16614  MKCNH  16615 2018-11-23      14                        1         2   \n",
       "16680  SUAQY  16681 2018-11-09      14                        0         2   \n",
       "16683  MPLRD  16684 2018-11-19      14                        4         4   \n",
       "16684  AYBAL  16685 2018-11-30       6                        2         3   \n",
       "16693  BPNYR  16694 2018-11-13      11                        4         3   \n",
       "\n",
       "       Result  \n",
       "1           1  \n",
       "7           1  \n",
       "20          1  \n",
       "61          1  \n",
       "84          1  \n",
       "93          1  \n",
       "115         0  \n",
       "204         0  \n",
       "218         0  \n",
       "247         0  \n",
       "251         1  \n",
       "261         1  \n",
       "269         0  \n",
       "270         0  \n",
       "297         1  \n",
       "305         0  \n",
       "326         1  \n",
       "350         1  \n",
       "361         0  \n",
       "373         1  \n",
       "385         1  \n",
       "391         1  \n",
       "412         1  \n",
       "492         1  \n",
       "495         0  \n",
       "508         0  \n",
       "517         0  \n",
       "518         1  \n",
       "542         0  \n",
       "571         1  \n",
       "...       ...  \n",
       "16241       1  \n",
       "16260       1  \n",
       "16292       1  \n",
       "16302       0  \n",
       "16336       1  \n",
       "16342       0  \n",
       "16357       0  \n",
       "16361       0  \n",
       "16367       0  \n",
       "16400       0  \n",
       "16404       1  \n",
       "16408       1  \n",
       "16410       1  \n",
       "16425       0  \n",
       "16426       0  \n",
       "16430       1  \n",
       "16435       0  \n",
       "16441       1  \n",
       "16453       1  \n",
       "16477       0  \n",
       "16481       0  \n",
       "16492       0  \n",
       "16545       1  \n",
       "16572       0  \n",
       "16593       0  \n",
       "16614       1  \n",
       "16680       1  \n",
       "16683       0  \n",
       "16684       1  \n",
       "16693       0  \n",
       "\n",
       "[1015 rows x 7 columns]"
      ]
     },
     "execution_count": 53,
     "metadata": {},
     "output_type": "execute_result"
    }
   ],
   "source": [
    "FinalResult\n",
    "#Display of customers acquired in month of November with the possibility of 90 day repeat rate as variable Result"
   ]
  },
  {
   "cell_type": "markdown",
   "metadata": {},
   "source": [
    "###### 1- Represents that person is likely to buy next within 90 days \n",
    "##### 0- represents that person is not likely to buy within next 90 days."
   ]
  },
  {
   "cell_type": "code",
   "execution_count": 54,
   "metadata": {
    "collapsed": false
   },
   "outputs": [],
   "source": [
    "Noofrepeatbuyer=FinalResult[FinalResult['Result']==1]['Result'].count()\n",
    "#Total number customer acquired in Nov with Result as likely to buy within next 90 days"
   ]
  },
  {
   "cell_type": "code",
   "execution_count": 55,
   "metadata": {
    "collapsed": false
   },
   "outputs": [],
   "source": [
    "TotalBuyer=FinalResult['Result'].count()\n",
    "#Total number of customers acquired in Nov"
   ]
  },
  {
   "cell_type": "code",
   "execution_count": 56,
   "metadata": {
    "collapsed": false
   },
   "outputs": [
    {
     "name": "stdout",
     "output_type": "stream",
     "text": [
      "45.812807881773395\n"
     ]
    }
   ],
   "source": [
    "print (Noofrepeatbuyer/TotalBuyer*100)\n",
    "#Predicted 90 Day repeat Rate for customer acquired in Nov"
   ]
  },
  {
   "cell_type": "markdown",
   "metadata": {},
   "source": [
    "#### The predicted 90 day Repeat Rate for customers acquired in November 2018 is 45.8 Approximately."
   ]
  },
  {
   "cell_type": "markdown",
   "metadata": {},
   "source": [
    "## DISTRIBUTION OF USERS BY FREQUENCY OF THEIR 90 DAY REPEAT"
   ]
  },
  {
   "cell_type": "code",
   "execution_count": 57,
   "metadata": {
    "collapsed": false
   },
   "outputs": [],
   "source": [
    "k1=df"
   ]
  },
  {
   "cell_type": "code",
   "execution_count": 58,
   "metadata": {
    "collapsed": false
   },
   "outputs": [],
   "source": [
    "k2 = pd.merge(k1,df5,on='P_ID', how='left')\n",
    "#Joining Dataframe with dataframe representing first date of booking for each User"
   ]
  },
  {
   "cell_type": "code",
   "execution_count": 59,
   "metadata": {
    "collapsed": false
   },
   "outputs": [],
   "source": [
    "k2['request_diff']= k2['DOB_x'].subtract(k2['DOB_y']).dt.days\n",
    "#Difference between every date of booking with first date of booking of each user"
   ]
  },
  {
   "cell_type": "code",
   "execution_count": 60,
   "metadata": {
    "collapsed": false
   },
   "outputs": [],
   "source": [
    "k3=k2[k2.request_diff<=90]\n",
    "#selecting entries with difference less than 90"
   ]
  },
  {
   "cell_type": "code",
   "execution_count": 61,
   "metadata": {
    "collapsed": false
   },
   "outputs": [],
   "source": [
    "k4=k3.groupby('P_ID')['P_ID'].count()\n",
    "#No of booking by each user"
   ]
  },
  {
   "cell_type": "code",
   "execution_count": 62,
   "metadata": {
    "collapsed": false
   },
   "outputs": [],
   "source": [
    "k5=pd.DataFrame({'P_ID':k4.index, 'No_of_Booking':k4.values})"
   ]
  },
  {
   "cell_type": "code",
   "execution_count": 63,
   "metadata": {
    "collapsed": false
   },
   "outputs": [],
   "source": [
    "k6=k5.groupby('No_of_Booking')['P_ID'].count()\n",
    "#No of user with no of Booking \n",
    "#Like 1 user booked only 13 times in first 90 days"
   ]
  },
  {
   "cell_type": "code",
   "execution_count": 64,
   "metadata": {
    "collapsed": false
   },
   "outputs": [],
   "source": [
    "k7=k6.values"
   ]
  },
  {
   "cell_type": "code",
   "execution_count": 65,
   "metadata": {
    "collapsed": true
   },
   "outputs": [],
   "source": [
    "label1 = ('1','2', '3', '4', '5', '6','7','8','9','10','11','12','13','14','15','16')\n",
    "freq_series = pd.Series.from_array(k7)"
   ]
  },
  {
   "cell_type": "code",
   "execution_count": 66,
   "metadata": {
    "collapsed": false
   },
   "outputs": [
    {
     "data": {
      "image/png": "[encoded data removed]",
      "text/plain": [
       "<matplotlib.figure.Figure at 0xd098ef0>"
      ]
     },
     "metadata": {},
     "output_type": "display_data"
    }
   ],
   "source": [
    "plt.figure(figsize=(12, 8))\n",
    "ax = freq_series.plot(kind='bar',alpha=0.5)\n",
    "ax.set_title('Distribution of users by frequency of their 90-day repeat')\n",
    "ax.set_ylabel('Number of User')\n",
    "ax.set_xlabel('Number of times user made a booking within first 90 days')\n",
    "ax.set_xticklabels(label1)\n",
    "\n",
    "rects = ax.patches\n",
    "\n",
    "for rect in rects:\n",
    "    y_value = rect.get_height()\n",
    "    x_value = rect.get_x() + rect.get_width() / 2\n",
    "    space = 5\n",
    "    va = 'bottom'\n",
    "    label = y_value\n",
    "    plt.annotate(\n",
    "        label,                      # Use `label` as label\n",
    "        (x_value, y_value),         # Place label at end of the bar\n",
    "        xytext=(0, space),          # Vertically shift label by `space`\n",
    "        textcoords=\"offset points\", # Interpret `xytext` as offset in points\n",
    "        ha='center',                # Horizontally center label\n",
    "        va=va)                      # Vertically align label differently for\n",
    "                                    # positive and negative values.\n",
    "plt.show()"
   ]
  }
 ],
 "metadata": {
  "kernelspec": {
   "display_name": "Python 2",
   "language": "python",
   "name": "python2"
  },
  "language_info": {
   "codemirror_mode": {
    "name": "ipython",
    "version": 2
   },
   "file_extension": ".py",
   "mimetype": "text/x-python",
   "name": "python",
   "nbconvert_exporter": "python",
   "pygments_lexer": "ipython2",
   "version": "2.7.15"
  }
 },
 "nbformat": 4,
 "nbformat_minor": 0
}
